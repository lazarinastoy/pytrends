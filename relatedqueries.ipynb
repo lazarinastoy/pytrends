{
  "nbformat": 4,
  "nbformat_minor": 0,
  "metadata": {
    "colab": {
      "name": "relatedqueries.ipynb",
      "provenance": [],
      "collapsed_sections": [],
      "authorship_tag": "ABX9TyP5PrUkzc0rHM88B3mRTxPO",
      "include_colab_link": true
    },
    "kernelspec": {
      "name": "python3",
      "display_name": "Python 3"
    },
    "language_info": {
      "name": "python"
    }
  },
  "cells": [
    {
      "cell_type": "markdown",
      "metadata": {
        "id": "view-in-github",
        "colab_type": "text"
      },
      "source": [
        "<a href=\"https://colab.research.google.com/github/lazarinastoy/pytrends/blob/main/relatedqueries.ipynb\" target=\"_parent\"><img src=\"https://colab.research.google.com/assets/colab-badge.svg\" alt=\"Open In Colab\"/></a>"
      ]
    },
    {
      "cell_type": "code",
      "metadata": {
        "id": "5ZnlisiSnJQ0"
      },
      "source": [
        "#install pytrends\n",
        "!pip install pytrends\n"
      ],
      "execution_count": null,
      "outputs": []
    },
    {
      "cell_type": "code",
      "metadata": {
        "id": "nnjLvMBenv2o"
      },
      "source": [
        "#import the libraries\n",
        "import pandas as pd                        \n",
        "from pytrends.request import TrendReq\n",
        "from google.colab import files\n",
        "\n",
        "#build model\n",
        "pytrend = TrendReq()\n",
        "\n"
      ],
      "execution_count": null,
      "outputs": []
    },
    {
      "cell_type": "code",
      "metadata": {
        "id": "zkDaqrTenxg5"
      },
      "source": [
        "\n",
        "#provide your search terms\n",
        "kw_list=['Facebook', 'Apple', 'Amazon', 'Netflix', 'Google']\n",
        "pytrend.build_payload(kw_list=kw_list)\n",
        "\n",
        "\n",
        "#get related queries\n",
        "related_queries = pytrend.related_queries()\n",
        "related_queries.values()"
      ],
      "execution_count": null,
      "outputs": []
    },
    {
      "cell_type": "code",
      "metadata": {
        "id": "BqoxXopPnzeC"
      },
      "source": [
        "#build lists dataframes\n",
        "\n",
        "top = list(related_queries.values())[0]['top']\n",
        "rising = list(related_queries.values())[0]['rising']\n",
        "\n",
        "#convert lists to dataframes\n",
        "\n",
        "dftop = pd.DataFrame(top)\n",
        "dfrising = pd.DataFrame(rising)\n",
        "\n",
        "#join two data frames\n",
        "joindfs = [dftop, dfrising]\n",
        "allqueries = pd.concat(joindfs, axis=1)\n",
        "\n",
        "#function to change duplicates\n",
        "\n",
        "cols=pd.Series(allqueries.columns)\n",
        "for dup in allqueries.columns[allqueries.columns.duplicated(keep=False)]: \n",
        "    cols[allqueries.columns.get_loc(dup)] = ([dup + '.' + str(d_idx) \n",
        "                                     if d_idx != 0 \n",
        "                                     else dup \n",
        "                                     for d_idx in range(allqueries.columns.get_loc(dup).sum())]\n",
        "                                    )\n",
        "allqueries.columns=cols\n",
        "\n",
        "#rename to proper names\n",
        "\n",
        "allqueries.rename({'query': 'top query', 'value': 'top query value', 'query.1': 'related query', 'value.1': 'related query value'}, axis=1, inplace=True) \n",
        "\n",
        "#check your dataset\n",
        "allqueries.head(50)\n",
        "\n"
      ],
      "execution_count": null,
      "outputs": []
    },
    {
      "cell_type": "code",
      "metadata": {
        "id": "nBoHXElfn26b"
      },
      "source": [
        "#save to csv\n",
        "allqueries.to_csv('allqueries.csv')\n",
        "\n",
        "#download from collab\n",
        "files.download(\"allqueries.csv\")"
      ],
      "execution_count": null,
      "outputs": []
    }
  ]
}